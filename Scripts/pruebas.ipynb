{
 "cells": [
  {
   "cell_type": "code",
   "execution_count": 2,
   "metadata": {},
   "outputs": [],
   "source": [
    "month_dict = {1: 'Enero', 2: 'Febrero', 3: 'Marzo', \n",
    "              4: 'Abril', 5: 'Mayo', 6: 'Junio', \n",
    "              7: 'Julio', 8: 'Agosto', 9: 'Septiembre',\n",
    "              10: 'Octubre', 11: 'Noviembre', 12:'Diciembre'}"
   ]
  },
  {
   "cell_type": "code",
   "execution_count": 3,
   "metadata": {},
   "outputs": [],
   "source": [
    "month = 4"
   ]
  },
  {
   "cell_type": "code",
   "execution_count": 5,
   "metadata": {},
   "outputs": [
    {
     "name": "stdout",
     "output_type": "stream",
     "text": [
      "1\n",
      "2\n",
      "3\n",
      "4\n"
     ]
    }
   ],
   "source": [
    "for i in month_dict.keys():\n",
    "    if i <= month:\n",
    "        print(i)    "
   ]
  },
  {
   "cell_type": "code",
   "execution_count": 6,
   "metadata": {},
   "outputs": [],
   "source": [
    "month_list = ['Enero','Febrero','Marzo', \n",
    "              'Abril','Mayo','Junio', \n",
    "              'Julio','Agosto','Septiembre',\n",
    "              'Octubre','Noviembre','Diciembre']"
   ]
  },
  {
   "cell_type": "code",
   "execution_count": 10,
   "metadata": {},
   "outputs": [
    {
     "data": {
      "text/plain": [
       "['Enero', 'Febrero', 'Marzo', 'Abril']"
      ]
     },
     "execution_count": 10,
     "metadata": {},
     "output_type": "execute_result"
    }
   ],
   "source": [
    "month_list[0:month]"
   ]
  },
  {
   "cell_type": "code",
   "execution_count": 32,
   "metadata": {},
   "outputs": [],
   "source": [
    "archivos = ['CDP', 'CDP_FIP', 'RP', 'RP_FIP', 'Oblig', 'Oblig_FIP', 'OP', 'OP_FIP', 'Ejecución_Presupuestal_Agregada', 'RP_Reservas', 'RP_FIP_Reservas', 'Oblig_Reservas', 'Oblig_FIP_Reservas', 'OP_Reservas', 'OP_FIP_Reservas']"
   ]
  },
  {
   "cell_type": "code",
   "execution_count": 33,
   "metadata": {},
   "outputs": [],
   "source": [
    "no_general = [i for i in archivos if i!='Ejecución_Presupuestal_Agregada']\n",
    "lgeneral = [i for i in archivos if i=='Ejecución_Presupuestal_Agregada']"
   ]
  },
  {
   "cell_type": "code",
   "execution_count": 34,
   "metadata": {},
   "outputs": [],
   "source": [
    "no_general_no_fip = [i for i in archivos if i!='Ejecución_Presupuestal_Agregada' and 'FIP' not in i]\n",
    "no_general_si_fip = [i for i in archivos if i!='Ejecución_Presupuestal_Agregada' and 'FIP' in i]"
   ]
  },
  {
   "cell_type": "code",
   "execution_count": 35,
   "metadata": {},
   "outputs": [
    {
     "data": {
      "text/plain": [
       "['CDP', 'RP', 'Oblig', 'OP', 'RP_Reservas', 'Oblig_Reservas', 'OP_Reservas']"
      ]
     },
     "execution_count": 35,
     "metadata": {},
     "output_type": "execute_result"
    }
   ],
   "source": [
    "no_general_no_fip"
   ]
  },
  {
   "cell_type": "code",
   "execution_count": 36,
   "metadata": {},
   "outputs": [
    {
     "data": {
      "text/plain": [
       "['CDP_FIP',\n",
       " 'RP_FIP',\n",
       " 'Oblig_FIP',\n",
       " 'OP_FIP',\n",
       " 'RP_FIP_Reservas',\n",
       " 'Oblig_FIP_Reservas',\n",
       " 'OP_FIP_Reservas']"
      ]
     },
     "execution_count": 36,
     "metadata": {},
     "output_type": "execute_result"
    }
   ],
   "source": [
    "no_general_si_fip"
   ]
  },
  {
   "cell_type": "code",
   "execution_count": 37,
   "metadata": {},
   "outputs": [
    {
     "data": {
      "text/plain": [
       "[['CDP', 'CDP_FIP'],\n",
       " ['RP', 'RP_FIP'],\n",
       " ['Oblig', 'Oblig_FIP'],\n",
       " ['OP', 'OP_FIP'],\n",
       " ['RP_Reservas', 'RP_FIP_Reservas'],\n",
       " ['Oblig_Reservas', 'Oblig_FIP_Reservas'],\n",
       " ['OP_Reservas', 'OP_FIP_Reservas']]"
      ]
     },
     "execution_count": 37,
     "metadata": {},
     "output_type": "execute_result"
    }
   ],
   "source": [
    "[[i,j] for i,j in zip(no_general_no_fip,no_general_si_fip)]"
   ]
  },
  {
   "cell_type": "code",
   "execution_count": 38,
   "metadata": {},
   "outputs": [
    {
     "name": "stdout",
     "output_type": "stream",
     "text": [
      "CDP CDP_FIP GCDP\n",
      "RP RP_FIP GRP\n",
      "Oblig Oblig_FIP GOblig\n",
      "OP OP_FIP GOP\n",
      "RP_Reservas RP_FIP_Reservas GRP_Reservas\n",
      "Oblig_Reservas Oblig_FIP_Reservas GOblig_Reservas\n",
      "OP_Reservas OP_FIP_Reservas GOP_Reservas\n"
     ]
    }
   ],
   "source": [
    "for pair in [[i,j] for i,j in zip(no_general_no_fip,no_general_si_fip)]:\n",
    "    print(pair[0],pair[1],'G'+pair[0])"
   ]
  },
  {
   "cell_type": "code",
   "execution_count": 39,
   "metadata": {},
   "outputs": [],
   "source": [
    "cols_to_num ={'CDP':['Valor Inicial','Valor Operaciones','Valor Actual','Saldo por Comprometer'],\n",
    "              'RP':['Valor Inicial', 'Valor Operaciones', 'Valor Actual', 'Saldo por Utilizar'],\n",
    "              'Oblig':['Valor Inicial', 'Valor Operaciones','Valor Actual.1','Saldo por Utilizar'],\n",
    "              'OP':['Valor Pesos', 'Valor Moneda', 'Valor Reintegrado Pesos', 'Valor Reintegrado Moneda'],\n",
    "              'RP_Reservas':['Valor Inicial', 'Valor Operaciones', 'Valor Actual', 'Saldo por Utilizar'],\n",
    "              'Oblig_Reservas':['Valor Inicial', 'Valor Operaciones','Valor Actual.1','Saldo por Utilizar'],\n",
    "              'OP_Reservas':['Valor Pesos', 'Valor Moneda', 'Valor Reintegrado Pesos', 'Valor Reintegrado Moneda']\n",
    "              }\n"
   ]
  },
  {
   "cell_type": "code",
   "execution_count": 40,
   "metadata": {},
   "outputs": [
    {
     "name": "stdout",
     "output_type": "stream",
     "text": [
      "['Valor Inicial', 'Valor Operaciones', 'Valor Actual', 'Saldo por Comprometer']\n",
      "['Valor Inicial', 'Valor Operaciones', 'Valor Actual', 'Saldo por Utilizar']\n",
      "['Valor Inicial', 'Valor Operaciones', 'Valor Actual.1', 'Saldo por Utilizar']\n",
      "['Valor Pesos', 'Valor Moneda', 'Valor Reintegrado Pesos', 'Valor Reintegrado Moneda']\n",
      "['Valor Inicial', 'Valor Operaciones', 'Valor Actual', 'Saldo por Utilizar']\n",
      "['Valor Inicial', 'Valor Operaciones', 'Valor Actual.1', 'Saldo por Utilizar']\n",
      "['Valor Pesos', 'Valor Moneda', 'Valor Reintegrado Pesos', 'Valor Reintegrado Moneda']\n"
     ]
    }
   ],
   "source": [
    "for pair in [[i,j] for i,j in zip(no_general_no_fip,no_general_si_fip)]:\n",
    "    print(cols_to_num[pair[0]])"
   ]
  },
  {
   "cell_type": "code",
   "execution_count": 41,
   "metadata": {},
   "outputs": [
    {
     "name": "stdout",
     "output_type": "stream",
     "text": [
      "CDP\n",
      "RP\n",
      "Oblig\n",
      "OP\n",
      "RP_Reservas\n",
      "Oblig_Reservas\n",
      "OP_Reservas\n"
     ]
    }
   ],
   "source": [
    "for pair in [[i,j] for i,j in zip(no_general_no_fip,no_general_si_fip)]:\n",
    "    print(pair[0])"
   ]
  },
  {
   "cell_type": "code",
   "execution_count": 46,
   "metadata": {},
   "outputs": [],
   "source": [
    "from datetime import datetime\n",
    "\n",
    "def get_date():\n",
    "    while True:\n",
    "        fecha_str = input(\"Ingrese una fecha (dd/mm/aaaa): \")\n",
    "\n",
    "        try:\n",
    "            fecha = datetime.strptime(fecha_str, \"%d/%m/%Y\")\n",
    "            break\n",
    "        except ValueError:\n",
    "            print(\"Fecha inválida. Por favor ingrese una fecha en el formato dd/mm/aaaa.\")\n",
    "    \n",
    "    return fecha"
   ]
  },
  {
   "cell_type": "code",
   "execution_count": 47,
   "metadata": {},
   "outputs": [],
   "source": [
    "fecha = get_date()"
   ]
  },
  {
   "cell_type": "code",
   "execution_count": 49,
   "metadata": {},
   "outputs": [
    {
     "data": {
      "text/plain": [
       "'23-04-30'"
      ]
     },
     "execution_count": 49,
     "metadata": {},
     "output_type": "execute_result"
    }
   ],
   "source": [
    "fecha.strftime(\"%y-%m-%d\")"
   ]
  },
  {
   "cell_type": "code",
   "execution_count": 52,
   "metadata": {},
   "outputs": [],
   "source": [
    "import pandas as pd\n",
    "dates = pd.DataFrame({'Fecha':[fecha.strftime(\"%y-%m-%d\")]})"
   ]
  },
  {
   "cell_type": "code",
   "execution_count": 53,
   "metadata": {},
   "outputs": [
    {
     "data": {
      "text/html": [
       "<div>\n",
       "<style scoped>\n",
       "    .dataframe tbody tr th:only-of-type {\n",
       "        vertical-align: middle;\n",
       "    }\n",
       "\n",
       "    .dataframe tbody tr th {\n",
       "        vertical-align: top;\n",
       "    }\n",
       "\n",
       "    .dataframe thead th {\n",
       "        text-align: right;\n",
       "    }\n",
       "</style>\n",
       "<table border=\"1\" class=\"dataframe\">\n",
       "  <thead>\n",
       "    <tr style=\"text-align: right;\">\n",
       "      <th></th>\n",
       "      <th>Fecha</th>\n",
       "    </tr>\n",
       "  </thead>\n",
       "  <tbody>\n",
       "    <tr>\n",
       "      <th>0</th>\n",
       "      <td>23-04-30</td>\n",
       "    </tr>\n",
       "  </tbody>\n",
       "</table>\n",
       "</div>"
      ],
      "text/plain": [
       "      Fecha\n",
       "0  23-04-30"
      ]
     },
     "execution_count": 53,
     "metadata": {},
     "output_type": "execute_result"
    }
   ],
   "source": [
    "dates"
   ]
  },
  {
   "cell_type": "code",
   "execution_count": 57,
   "metadata": {},
   "outputs": [
    {
     "data": {
      "text/plain": [
       "0    23-04-30\n",
       "Name: Fecha, dtype: object"
      ]
     },
     "execution_count": 57,
     "metadata": {},
     "output_type": "execute_result"
    }
   ],
   "source": [
    "dates['Fecha']"
   ]
  },
  {
   "cell_type": "code",
   "execution_count": 59,
   "metadata": {},
   "outputs": [
    {
     "name": "stdout",
     "output_type": "stream",
     "text": [
      "23-04-30\n"
     ]
    }
   ],
   "source": [
    "print(dates['Fecha'].values[0])"
   ]
  },
  {
   "cell_type": "code",
   "execution_count": 1,
   "metadata": {},
   "outputs": [],
   "source": [
    "import pandas as pd"
   ]
  },
  {
   "cell_type": "code",
   "execution_count": 2,
   "metadata": {},
   "outputs": [],
   "source": [
    "from Modulo_1 import clean_bases, clean_general\n",
    "from Modulo_3 import get_third_base\n",
    "from Modulo_2 import get_pre_second_base"
   ]
  },
  {
   "cell_type": "code",
   "execution_count": 3,
   "metadata": {},
   "outputs": [],
   "source": [
    "# CDPS\n",
    "CDP = pd.read_excel(r\"C:\\Users\\andre\\OneDrive\\Escritorio\\DIP\\01_Reporte de Ejecución Presupuestal\\2023\\04_Abril\\31-04-23\\Datos Base\\1 CDPs DPS Abril 2023.xlsx\")\n",
    "CDP_FIP = pd.read_excel(r\"C:\\Users\\andre\\OneDrive\\Escritorio\\DIP\\01_Reporte de Ejecución Presupuestal\\2023\\04_Abril\\31-04-23\\Datos Base\\5 CDPs FIP Abril 2023.xlsx\")\n",
    "\n",
    "# RPS\n",
    "RP = pd.read_excel(r\"C:\\Users\\andre\\OneDrive\\Escritorio\\DIP\\01_Reporte de Ejecución Presupuestal\\2023\\04_Abril\\31-04-23\\Datos Base\\2 RPs DPS Abril 2023.xlsx\")\n",
    "RP_FIP = pd.read_excel(r\"C:\\Users\\andre\\OneDrive\\Escritorio\\DIP\\01_Reporte de Ejecución Presupuestal\\2023\\04_Abril\\31-04-23\\Datos Base\\6 RPs FIP Abril 2023.xlsx\")\n",
    "\n",
    "# OBLIGACIONES\n",
    "OB = pd.read_excel(r\"C:\\Users\\andre\\OneDrive\\Escritorio\\DIP\\01_Reporte de Ejecución Presupuestal\\2023\\04_Abril\\31-04-23\\Datos Base\\3 Oblig DPS Abril 2023.xlsx\")\n",
    "OB_FIP = pd.read_excel(r\"C:\\Users\\andre\\OneDrive\\Escritorio\\DIP\\01_Reporte de Ejecución Presupuestal\\2023\\04_Abril\\31-04-23\\Datos Base\\7 Oblig FIP Abril 2023.xlsx\")\n",
    "\n",
    "# ORDENES DE PAGO\n",
    "OP = pd.read_excel(r\"C:\\Users\\andre\\OneDrive\\Escritorio\\DIP\\01_Reporte de Ejecución Presupuestal\\2023\\04_Abril\\31-04-23\\Datos Base\\4 OP DPS Abril 2023.xlsx\")\n",
    "OP_FIP = pd.read_excel(r\"C:\\Users\\andre\\OneDrive\\Escritorio\\DIP\\01_Reporte de Ejecución Presupuestal\\2023\\04_Abril\\31-04-23\\Datos Base\\8 OP FIP Abril 2023.xlsx\")\n",
    "\n",
    "# REPORTE GENERAL\n",
    "RG = pd.read_excel(r\"C:\\Users\\andre\\OneDrive\\Escritorio\\DIP\\01_Reporte de Ejecución Presupuestal\\2023\\04_Abril\\31-04-23\\Datos Base\\EjecucionPresupuestalAgregada Abril 2023.xlsx\", header = 3)\n"
   ]
  },
  {
   "cell_type": "code",
   "execution_count": 4,
   "metadata": {},
   "outputs": [
    {
     "name": "stderr",
     "output_type": "stream",
     "text": [
      "c:\\Users\\andre\\OneDrive\\Escritorio\\DIP\\01_Reporte de Ejecución Presupuestal\\03_Código_Limpieza_Tablero\\Scripts\\Modulo_1.py:87: SettingWithCopyWarning: \n",
      "A value is trying to be set on a copy of a slice from a DataFrame.\n",
      "Try using .loc[row_indexer,col_indexer] = value instead\n",
      "\n",
      "See the caveats in the documentation: https://pandas.pydata.org/pandas-docs/stable/user_guide/indexing.html#returning-a-view-versus-a-copy\n",
      "  RG['Index_Rubro'] = RG['RUBRO'].apply(lambda x: x.split(\"-\")[-1])\n"
     ]
    }
   ],
   "source": [
    "GCDP = clean_bases(CDP, CDP_FIP, 'CDP')\n",
    "GRP = clean_bases(RP, RP_FIP, 'RP')\n",
    "GOblig =  clean_bases(OB, OB_FIP, 'Oblig')\n",
    "GOP = clean_bases(OP, OP_FIP, 'OP')\n",
    "RG = clean_general(RG)"
   ]
  },
  {
   "cell_type": "code",
   "execution_count": null,
   "metadata": {},
   "outputs": [],
   "source": []
  },
  {
   "cell_type": "code",
   "execution_count": 7,
   "metadata": {},
   "outputs": [],
   "source": [
    "bases = ['GCDP', 'GRP', 'GOblig', \n",
    "             'GOP', 'GRP_Reservas', \n",
    "             'GOblig_Reservas', 'GOP_Reservas', \n",
    "             'Base_Compromisos',\n",
    "             'Base_Compromisos_Reservas', \n",
    "             'BASE_RP_OP', 'RG', 'Base_Rubros']\n",
    "nombres = ['1_CDP', '2_RP', '3_Oblig', \n",
    "             '4_OP', '2.1_RP_Reservas', \n",
    "             '3.1_Oblig_Reservas', '4.1_OP_Reservas', \n",
    "             '7_Base_Compromisos',\n",
    "             '7.1_Base_Compromisos_Reservas', \n",
    "             'BASE_RP_OP', '5_Reporte General', '6_Base_Rubros']"
   ]
  },
  {
   "cell_type": "code",
   "execution_count": 9,
   "metadata": {},
   "outputs": [
    {
     "data": {
      "text/plain": [
       "[('GCDP', '1_CDP'),\n",
       " ('GRP', '2_RP'),\n",
       " ('GOblig', '3_Oblig'),\n",
       " ('GOP', '4_OP'),\n",
       " ('GRP_Reservas', '2.1_RP_Reservas'),\n",
       " ('GOblig_Reservas', '3.1_Oblig_Reservas'),\n",
       " ('GOP_Reservas', '4.1_OP_Reservas'),\n",
       " ('Base_Compromisos', '7_Base_Compromisos'),\n",
       " ('Base_Compromisos_Reservas', '7.1_Base_Compromisos_Reservas'),\n",
       " ('BASE_RP_OP', 'BASE_RP_OP'),\n",
       " ('RG', '5_Reporte General'),\n",
       " ('Base_Rubros', '6_Base_Rubros')]"
      ]
     },
     "execution_count": 9,
     "metadata": {},
     "output_type": "execute_result"
    }
   ],
   "source": [
    "[pair for pair in zip(bases,nombres)]"
   ]
  },
  {
   "cell_type": "code",
   "execution_count": null,
   "metadata": {},
   "outputs": [],
   "source": []
  }
 ],
 "metadata": {
  "kernelspec": {
   "display_name": "TEP",
   "language": "python",
   "name": "python3"
  },
  "language_info": {
   "codemirror_mode": {
    "name": "ipython",
    "version": 3
   },
   "file_extension": ".py",
   "mimetype": "text/x-python",
   "name": "python",
   "nbconvert_exporter": "python",
   "pygments_lexer": "ipython3",
   "version": "3.10.6"
  },
  "orig_nbformat": 4
 },
 "nbformat": 4,
 "nbformat_minor": 2
}
