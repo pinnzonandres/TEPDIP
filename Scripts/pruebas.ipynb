{
 "cells": [
  {
   "cell_type": "code",
   "execution_count": 1,
   "metadata": {},
   "outputs": [],
   "source": [
    "month_dict = {1: 'Enero', 2: 'Febrero', 3: 'Marzo', \n",
    "              4: 'Abril', 5: 'Mayo', 6: 'Junio', \n",
    "              7: 'Julio', 8: 'Agosto', 9: 'Septiembre',\n",
    "              10: 'Octubre', 11: 'Noviembre', 12:'Diciembre'}"
   ]
  },
  {
   "cell_type": "code",
   "execution_count": 2,
   "metadata": {},
   "outputs": [],
   "source": [
    "from datetime import datetime\n",
    "\n",
    "def get_date():\n",
    "    while True:\n",
    "        fecha_str = input(\"Ingrese una fecha (dd/mm/aaaa): \")\n",
    "\n",
    "        try:\n",
    "            fecha = datetime.strptime(fecha_str, \"%d/%m/%Y\")\n",
    "            break\n",
    "        except ValueError:\n",
    "            print(\"Fecha inválida. Por favor ingrese una fecha en el formato dd/mm/aaaa.\")\n",
    "    \n",
    "    return fecha"
   ]
  },
  {
   "cell_type": "code",
   "execution_count": 3,
   "metadata": {},
   "outputs": [],
   "source": [
    "import pandas as pd"
   ]
  },
  {
   "cell_type": "code",
   "execution_count": 4,
   "metadata": {},
   "outputs": [],
   "source": [
    "from Modulo_1 import clean_general_DIP"
   ]
  },
  {
   "cell_type": "code",
   "execution_count": 5,
   "metadata": {},
   "outputs": [],
   "source": [
    "RG = pd.read_excel(r\"C:\\Users\\andre\\OneDrive\\Escritorio\\DIP\\01_Reporte de Ejecución Presupuestal\\2023\\04_Abril\\31-04-23\\Datos Base\\EjecucionPresupuestalAgregada Abril 2023.xlsx\", header=3)"
   ]
  },
  {
   "cell_type": "code",
   "execution_count": 6,
   "metadata": {},
   "outputs": [
    {
     "name": "stderr",
     "output_type": "stream",
     "text": [
      "c:\\Users\\andre\\OneDrive\\Escritorio\\DIP\\01_Reporte de Ejecución Presupuestal\\03_Código_Limpieza_Tablero\\Scripts\\Modulo_1.py:120: SettingWithCopyWarning: \n",
      "A value is trying to be set on a copy of a slice from a DataFrame.\n",
      "Try using .loc[row_indexer,col_indexer] = value instead\n",
      "\n",
      "See the caveats in the documentation: https://pandas.pydata.org/pandas-docs/stable/user_guide/indexing.html#returning-a-view-versus-a-copy\n",
      "  rg_2['Index_Rubro'] = rg_2['RUBRO'].apply(lambda x: x.split(\"-\")[-1])\n"
     ]
    }
   ],
   "source": [
    "RG = clean_general_DIP(RG)"
   ]
  },
  {
   "cell_type": "code",
   "execution_count": 7,
   "metadata": {},
   "outputs": [
    {
     "data": {
      "text/html": [
       "<div>\n",
       "<style scoped>\n",
       "    .dataframe tbody tr th:only-of-type {\n",
       "        vertical-align: middle;\n",
       "    }\n",
       "\n",
       "    .dataframe tbody tr th {\n",
       "        vertical-align: top;\n",
       "    }\n",
       "\n",
       "    .dataframe thead th {\n",
       "        text-align: right;\n",
       "    }\n",
       "</style>\n",
       "<table border=\"1\" class=\"dataframe\">\n",
       "  <thead>\n",
       "    <tr style=\"text-align: right;\">\n",
       "      <th></th>\n",
       "      <th>RUBRO</th>\n",
       "      <th>DESCRIPCION</th>\n",
       "      <th>APR. INICIAL</th>\n",
       "      <th>APR. REDUCIDA</th>\n",
       "      <th>APR. VIGENTE (A)</th>\n",
       "      <th>CDP</th>\n",
       "      <th>COMPROMISO (B)</th>\n",
       "      <th>% COMPROMETIDO (B/A)</th>\n",
       "      <th>APR. DISPONIBLE (A-B)</th>\n",
       "      <th>OBLIGACION</th>\n",
       "      <th>PAGOS (C)</th>\n",
       "      <th>% EJECUCIÓN (C/A)</th>\n",
       "    </tr>\n",
       "  </thead>\n",
       "  <tbody>\n",
       "    <tr>\n",
       "      <th>0</th>\n",
       "      <td>C-4103-1500-13</td>\n",
       "      <td>ReSA</td>\n",
       "      <td>40000000000</td>\n",
       "      <td>0</td>\n",
       "      <td>40000000000</td>\n",
       "      <td>1.028334e+10</td>\n",
       "      <td>8.495402e+09</td>\n",
       "      <td>21.24</td>\n",
       "      <td>31504598484</td>\n",
       "      <td>270065051.0</td>\n",
       "      <td>234365051.0</td>\n",
       "      <td>0.59</td>\n",
       "    </tr>\n",
       "    <tr>\n",
       "      <th>1</th>\n",
       "      <td>C-4103-1500-16</td>\n",
       "      <td>Política de Seguridad Alimentaria</td>\n",
       "      <td>500000000</td>\n",
       "      <td>0</td>\n",
       "      <td>500000000</td>\n",
       "      <td>0.000000e+00</td>\n",
       "      <td>0.000000e+00</td>\n",
       "      <td>0.00</td>\n",
       "      <td>500000000</td>\n",
       "      <td>0.0</td>\n",
       "      <td>0.0</td>\n",
       "      <td>0.00</td>\n",
       "    </tr>\n",
       "    <tr>\n",
       "      <th>2</th>\n",
       "      <td>C-4103-1500-17</td>\n",
       "      <td>Inclusión Productiva</td>\n",
       "      <td>18000000000</td>\n",
       "      <td>0</td>\n",
       "      <td>18000000000</td>\n",
       "      <td>1.648299e+09</td>\n",
       "      <td>4.530916e+08</td>\n",
       "      <td>2.52</td>\n",
       "      <td>17546908395</td>\n",
       "      <td>127043333.0</td>\n",
       "      <td>90043333.0</td>\n",
       "      <td>0.50</td>\n",
       "    </tr>\n",
       "    <tr>\n",
       "      <th>3</th>\n",
       "      <td>C-4103-1500-21</td>\n",
       "      <td>IRACA</td>\n",
       "      <td>34000000000</td>\n",
       "      <td>0</td>\n",
       "      <td>34000000000</td>\n",
       "      <td>3.332370e+10</td>\n",
       "      <td>6.704935e+08</td>\n",
       "      <td>1.97</td>\n",
       "      <td>33329506510</td>\n",
       "      <td>146876346.0</td>\n",
       "      <td>105176346.0</td>\n",
       "      <td>0.31</td>\n",
       "    </tr>\n",
       "    <tr>\n",
       "      <th>4</th>\n",
       "      <td>C-4103-1500-22</td>\n",
       "      <td>FEST</td>\n",
       "      <td>188272298572</td>\n",
       "      <td>0</td>\n",
       "      <td>188272298572</td>\n",
       "      <td>3.308751e+10</td>\n",
       "      <td>2.729463e+10</td>\n",
       "      <td>14.50</td>\n",
       "      <td>160977665274</td>\n",
       "      <td>378269822.0</td>\n",
       "      <td>296269822.0</td>\n",
       "      <td>0.16</td>\n",
       "    </tr>\n",
       "    <tr>\n",
       "      <th>5</th>\n",
       "      <td>C-4103-1500-25</td>\n",
       "      <td>Generación de Ingresos</td>\n",
       "      <td>5500000000</td>\n",
       "      <td>0</td>\n",
       "      <td>5500000000</td>\n",
       "      <td>0.000000e+00</td>\n",
       "      <td>0.000000e+00</td>\n",
       "      <td>0.00</td>\n",
       "      <td>5500000000</td>\n",
       "      <td>0.0</td>\n",
       "      <td>0.0</td>\n",
       "      <td>0.00</td>\n",
       "    </tr>\n",
       "  </tbody>\n",
       "</table>\n",
       "</div>"
      ],
      "text/plain": [
       "            RUBRO                        DESCRIPCION  APR. INICIAL   \n",
       "0  C-4103-1500-13                               ReSA   40000000000  \\\n",
       "1  C-4103-1500-16  Política de Seguridad Alimentaria     500000000   \n",
       "2  C-4103-1500-17               Inclusión Productiva   18000000000   \n",
       "3  C-4103-1500-21                              IRACA   34000000000   \n",
       "4  C-4103-1500-22                               FEST  188272298572   \n",
       "5  C-4103-1500-25             Generación de Ingresos    5500000000   \n",
       "\n",
       "   APR. REDUCIDA  APR. VIGENTE (A)           CDP  COMPROMISO (B)   \n",
       "0              0       40000000000  1.028334e+10    8.495402e+09  \\\n",
       "1              0         500000000  0.000000e+00    0.000000e+00   \n",
       "2              0       18000000000  1.648299e+09    4.530916e+08   \n",
       "3              0       34000000000  3.332370e+10    6.704935e+08   \n",
       "4              0      188272298572  3.308751e+10    2.729463e+10   \n",
       "5              0        5500000000  0.000000e+00    0.000000e+00   \n",
       "\n",
       "   % COMPROMETIDO (B/A)  APR. DISPONIBLE (A-B)   OBLIGACION    PAGOS (C)   \n",
       "0                 21.24            31504598484  270065051.0  234365051.0  \\\n",
       "1                  0.00              500000000          0.0          0.0   \n",
       "2                  2.52            17546908395  127043333.0   90043333.0   \n",
       "3                  1.97            33329506510  146876346.0  105176346.0   \n",
       "4                 14.50           160977665274  378269822.0  296269822.0   \n",
       "5                  0.00             5500000000          0.0          0.0   \n",
       "\n",
       "   % EJECUCIÓN (C/A)  \n",
       "0               0.59  \n",
       "1               0.00  \n",
       "2               0.50  \n",
       "3               0.31  \n",
       "4               0.16  \n",
       "5               0.00  "
      ]
     },
     "execution_count": 7,
     "metadata": {},
     "output_type": "execute_result"
    }
   ],
   "source": [
    "RG"
   ]
  },
  {
   "cell_type": "code",
   "execution_count": 8,
   "metadata": {},
   "outputs": [],
   "source": [
    "from openpyxl import Workbook\n",
    "from openpyxl.utils import get_column_letter\n",
    "from openpyxl.styles import Font, Alignment"
   ]
  },
  {
   "cell_type": "code",
   "execution_count": 9,
   "metadata": {},
   "outputs": [],
   "source": [
    "fecha = get_date()"
   ]
  },
  {
   "cell_type": "code",
   "execution_count": 10,
   "metadata": {},
   "outputs": [
    {
     "data": {
      "text/plain": [
       "'Abril'"
      ]
     },
     "execution_count": 10,
     "metadata": {},
     "output_type": "execute_result"
    }
   ],
   "source": [
    "month_dict[fecha.month]"
   ]
  },
  {
   "cell_type": "code",
   "execution_count": 11,
   "metadata": {},
   "outputs": [],
   "source": [
    "RG.loc['TOTAL'] = [''] + RG.iloc[:,1:].sum().tolist()"
   ]
  },
  {
   "cell_type": "code",
   "execution_count": 12,
   "metadata": {},
   "outputs": [],
   "source": [
    "RG.loc['TOTAL','RUBRO'] = 'TOTAL DIP'\n",
    "RG.loc['TOTAL','DESCRIPCION'] = 'TOTAL DIP'\n",
    "RG.loc['TOTAL','% COMPROMETIDO (B/A)'] = round((RG.loc['TOTAL','COMPROMISO (B)'] / RG.loc['TOTAL','APR. VIGENTE (A)']), 2)\n",
    "RG.loc['TOTAL','% EJECUCIÓN (C/A)'] = round((RG.loc['TOTAL','PAGOS (C)'] / RG.loc['TOTAL','APR. VIGENTE (A)']), 2)"
   ]
  },
  {
   "cell_type": "code",
   "execution_count": 14,
   "metadata": {},
   "outputs": [
    {
     "data": {
      "text/html": [
       "<div>\n",
       "<style scoped>\n",
       "    .dataframe tbody tr th:only-of-type {\n",
       "        vertical-align: middle;\n",
       "    }\n",
       "\n",
       "    .dataframe tbody tr th {\n",
       "        vertical-align: top;\n",
       "    }\n",
       "\n",
       "    .dataframe thead th {\n",
       "        text-align: right;\n",
       "    }\n",
       "</style>\n",
       "<table border=\"1\" class=\"dataframe\">\n",
       "  <thead>\n",
       "    <tr style=\"text-align: right;\">\n",
       "      <th></th>\n",
       "      <th>RUBRO</th>\n",
       "      <th>DESCRIPCION</th>\n",
       "      <th>APR. INICIAL</th>\n",
       "      <th>APR. REDUCIDA</th>\n",
       "      <th>APR. VIGENTE (A)</th>\n",
       "      <th>CDP</th>\n",
       "      <th>COMPROMISO (B)</th>\n",
       "      <th>% COMPROMETIDO (B/A)</th>\n",
       "      <th>APR. DISPONIBLE (A-B)</th>\n",
       "      <th>OBLIGACION</th>\n",
       "      <th>PAGOS (C)</th>\n",
       "      <th>% EJECUCIÓN (C/A)</th>\n",
       "    </tr>\n",
       "  </thead>\n",
       "  <tbody>\n",
       "    <tr>\n",
       "      <th>0</th>\n",
       "      <td>C-4103-1500-13</td>\n",
       "      <td>ReSA</td>\n",
       "      <td>40000000000</td>\n",
       "      <td>0</td>\n",
       "      <td>40000000000</td>\n",
       "      <td>1.028334e+10</td>\n",
       "      <td>8.495402e+09</td>\n",
       "      <td>21.24</td>\n",
       "      <td>31504598484</td>\n",
       "      <td>270065051.0</td>\n",
       "      <td>234365051.0</td>\n",
       "      <td>0.59</td>\n",
       "    </tr>\n",
       "    <tr>\n",
       "      <th>1</th>\n",
       "      <td>C-4103-1500-16</td>\n",
       "      <td>Política de Seguridad Alimentaria</td>\n",
       "      <td>500000000</td>\n",
       "      <td>0</td>\n",
       "      <td>500000000</td>\n",
       "      <td>0.000000e+00</td>\n",
       "      <td>0.000000e+00</td>\n",
       "      <td>0.00</td>\n",
       "      <td>500000000</td>\n",
       "      <td>0.0</td>\n",
       "      <td>0.0</td>\n",
       "      <td>0.00</td>\n",
       "    </tr>\n",
       "    <tr>\n",
       "      <th>2</th>\n",
       "      <td>C-4103-1500-17</td>\n",
       "      <td>Inclusión Productiva</td>\n",
       "      <td>18000000000</td>\n",
       "      <td>0</td>\n",
       "      <td>18000000000</td>\n",
       "      <td>1.648299e+09</td>\n",
       "      <td>4.530916e+08</td>\n",
       "      <td>2.52</td>\n",
       "      <td>17546908395</td>\n",
       "      <td>127043333.0</td>\n",
       "      <td>90043333.0</td>\n",
       "      <td>0.50</td>\n",
       "    </tr>\n",
       "    <tr>\n",
       "      <th>3</th>\n",
       "      <td>C-4103-1500-21</td>\n",
       "      <td>IRACA</td>\n",
       "      <td>34000000000</td>\n",
       "      <td>0</td>\n",
       "      <td>34000000000</td>\n",
       "      <td>3.332370e+10</td>\n",
       "      <td>6.704935e+08</td>\n",
       "      <td>1.97</td>\n",
       "      <td>33329506510</td>\n",
       "      <td>146876346.0</td>\n",
       "      <td>105176346.0</td>\n",
       "      <td>0.31</td>\n",
       "    </tr>\n",
       "    <tr>\n",
       "      <th>4</th>\n",
       "      <td>C-4103-1500-22</td>\n",
       "      <td>FEST</td>\n",
       "      <td>188272298572</td>\n",
       "      <td>0</td>\n",
       "      <td>188272298572</td>\n",
       "      <td>3.308751e+10</td>\n",
       "      <td>2.729463e+10</td>\n",
       "      <td>14.50</td>\n",
       "      <td>160977665274</td>\n",
       "      <td>378269822.0</td>\n",
       "      <td>296269822.0</td>\n",
       "      <td>0.16</td>\n",
       "    </tr>\n",
       "    <tr>\n",
       "      <th>5</th>\n",
       "      <td>C-4103-1500-25</td>\n",
       "      <td>Generación de Ingresos</td>\n",
       "      <td>5500000000</td>\n",
       "      <td>0</td>\n",
       "      <td>5500000000</td>\n",
       "      <td>0.000000e+00</td>\n",
       "      <td>0.000000e+00</td>\n",
       "      <td>0.00</td>\n",
       "      <td>5500000000</td>\n",
       "      <td>0.0</td>\n",
       "      <td>0.0</td>\n",
       "      <td>0.00</td>\n",
       "    </tr>\n",
       "    <tr>\n",
       "      <th>TOTAL</th>\n",
       "      <td>TOTAL DIP</td>\n",
       "      <td>TOTAL DIP</td>\n",
       "      <td>286272298572</td>\n",
       "      <td>0</td>\n",
       "      <td>286272298572</td>\n",
       "      <td>7.834286e+10</td>\n",
       "      <td>3.691362e+10</td>\n",
       "      <td>12.89</td>\n",
       "      <td>249358678663</td>\n",
       "      <td>922254552.0</td>\n",
       "      <td>725854552.0</td>\n",
       "      <td>0.25</td>\n",
       "    </tr>\n",
       "  </tbody>\n",
       "</table>\n",
       "</div>"
      ],
      "text/plain": [
       "                RUBRO                        DESCRIPCION  APR. INICIAL   \n",
       "0      C-4103-1500-13                               ReSA   40000000000  \\\n",
       "1      C-4103-1500-16  Política de Seguridad Alimentaria     500000000   \n",
       "2      C-4103-1500-17               Inclusión Productiva   18000000000   \n",
       "3      C-4103-1500-21                              IRACA   34000000000   \n",
       "4      C-4103-1500-22                               FEST  188272298572   \n",
       "5      C-4103-1500-25             Generación de Ingresos    5500000000   \n",
       "TOTAL       TOTAL DIP                          TOTAL DIP  286272298572   \n",
       "\n",
       "       APR. REDUCIDA  APR. VIGENTE (A)           CDP  COMPROMISO (B)   \n",
       "0                  0       40000000000  1.028334e+10    8.495402e+09  \\\n",
       "1                  0         500000000  0.000000e+00    0.000000e+00   \n",
       "2                  0       18000000000  1.648299e+09    4.530916e+08   \n",
       "3                  0       34000000000  3.332370e+10    6.704935e+08   \n",
       "4                  0      188272298572  3.308751e+10    2.729463e+10   \n",
       "5                  0        5500000000  0.000000e+00    0.000000e+00   \n",
       "TOTAL              0      286272298572  7.834286e+10    3.691362e+10   \n",
       "\n",
       "       % COMPROMETIDO (B/A)  APR. DISPONIBLE (A-B)   OBLIGACION    PAGOS (C)   \n",
       "0                     21.24            31504598484  270065051.0  234365051.0  \\\n",
       "1                      0.00              500000000          0.0          0.0   \n",
       "2                      2.52            17546908395  127043333.0   90043333.0   \n",
       "3                      1.97            33329506510  146876346.0  105176346.0   \n",
       "4                     14.50           160977665274  378269822.0  296269822.0   \n",
       "5                      0.00             5500000000          0.0          0.0   \n",
       "TOTAL                 12.89           249358678663  922254552.0  725854552.0   \n",
       "\n",
       "       % EJECUCIÓN (C/A)  \n",
       "0                   0.59  \n",
       "1                   0.00  \n",
       "2                   0.50  \n",
       "3                   0.31  \n",
       "4                   0.16  \n",
       "5                   0.00  \n",
       "TOTAL               0.25  "
      ]
     },
     "execution_count": 14,
     "metadata": {},
     "output_type": "execute_result"
    }
   ],
   "source": [
    "RG"
   ]
  },
  {
   "cell_type": "code",
   "execution_count": 17,
   "metadata": {},
   "outputs": [],
   "source": [
    "\n",
    "\n"
   ]
  },
  {
   "cell_type": "code",
   "execution_count": 58,
   "metadata": {},
   "outputs": [],
   "source": [
    "reserva = pd.read_excel(r\"C:\\Users\\andre\\OneDrive\\Escritorio\\DIP\\01_Reporte de Ejecución Presupuestal\\03_Código_Limpieza_Tablero\\Resultados\\2023-04-30\\Archivos_Modificados\\7.1_Base_Compromisos_Reservas.xlsx\")"
   ]
  },
  {
   "cell_type": "code",
   "execution_count": 59,
   "metadata": {},
   "outputs": [],
   "source": [
    "reserva_DIP = reserva[reserva['Dirección'] == 'Inclusión Productiva'].reset_index(drop=True)\n",
    "total_reserva = reserva_DIP['Valor Actual'].sum()"
   ]
  },
  {
   "cell_type": "code",
   "execution_count": 60,
   "metadata": {},
   "outputs": [],
   "source": [
    "reserva_DIP = reserva_DIP[['Descripción Rubro','Numero Documento Soporte','Nombre Razon Social','Valor Actual','Valor Obligaciones','Valor Ordenes de Pago']]\n",
    "reserva_DIP = reserva_DIP.rename(columns={'Descripción Rubro':'PROGRAMA',\n",
    "                                          'Numero Documento Soporte':'CONVENIO / CONTRATO',\n",
    "                                          'Nombre Razon Social': 'TERCERO',\n",
    "                                          'Valor Actual':'VALOR CONSTITUCION DE RESERVA',\n",
    "                                          'Valor Obligaciones':'OBLIGADO',\n",
    "                                          'Valor Ordenes de Pago':'PAGADO'})"
   ]
  },
  {
   "cell_type": "code",
   "execution_count": 88,
   "metadata": {},
   "outputs": [],
   "source": [
    "data = {}\n",
    "result = pd.DataFrame()\n",
    "for i in set(reserva_DIP['PROGRAMA'].values):\n",
    "    data[i] = reserva_DIP[reserva_DIP['PROGRAMA']==i]\n",
    "    data[i] = data[i].groupby('CONVENIO / CONTRATO').agg({'PROGRAMA':'first',\n",
    "                                                          'TERCERO':'first',\n",
    "                                                          'VALOR CONSTITUCION DE RESERVA':'sum',\n",
    "                                                          'OBLIGADO':'sum',\n",
    "                                                          'PAGADO':'sum'}).reset_index(drop = False)\n",
    "    data[i] = data[i][data[i]['VALOR CONSTITUCION DE RESERVA']!=0].reset_index(drop = True)\n",
    "    data[i]['% DE RESERVA'] = data[i].apply(lambda x: round(int(x['VALOR CONSTITUCION DE RESERVA'])/ int(total_reserva) ,2), axis = 1) \n",
    "    data[i]['% EJECUCION'] = data[i].apply(lambda x: round(int(x['PAGADO']) / int(x['VALOR CONSTITUCION DE RESERVA']), 2), axis = 1)\n",
    "    data[i] = data[i][['PROGRAMA','CONVENIO / CONTRATO','TERCERO','VALOR CONSTITUCION DE RESERVA','% DE RESERVA','OBLIGADO','PAGADO','% EJECUCION']]\n",
    "    data[i].loc['TOTAL'] = [''] + data[i].iloc[:,1:].sum().tolist()\n",
    "    data[i].loc['TOTAL','PROGRAMA'] = f'Total {i}'\n",
    "    data[i].loc['TOTAL','CONVENIO / CONTRATO'] = ''\n",
    "    data[i].loc['TOTAL','TERCERO'] = ''\n",
    "    data[i].loc['TOTAL','% DE RESERVA'] = round(int(data[i].loc['TOTAL','VALOR CONSTITUCION DE RESERVA']) / int(total_reserva), 2)\n",
    "    data[i].loc['TOTAL','% EJECUCION'] = round(int(data[i].loc['TOTAL','PAGADO']) / int(data[i].loc['TOTAL','VALOR CONSTITUCION DE RESERVA']), 2)\n",
    "    \n",
    "    result = pd.concat([result,data[i]])       \n",
    "\n",
    "result.loc['TOTAL RESERVAS','PROGRAMA'] = 'TOTAL RESERVAS DIP'\n",
    "result.loc['TOTAL RESERVAS','VALOR CONSTITUCION DE RESERVA'] = reserva_DIP['VALOR CONSTITUCION DE RESERVA'].sum()\n",
    "result.loc['TOTAL RESERVAS','% DE RESERVA'] = 1\n",
    "result.loc['TOTAL RESERVAS','OBLIGADO'] = reserva_DIP['OBLIGADO'].sum()\n",
    "result.loc['TOTAL RESERVAS','PAGADO'] = reserva_DIP['PAGADO'].sum()\n",
    "result.loc['TOTAL RESERVAS','% EJECUCION'] = round(int(result.loc['TOTAL RESERVAS','PAGADO']) / int(result.loc['TOTAL RESERVAS','VALOR CONSTITUCION DE RESERVA']), 2)                                                "
   ]
  },
  {
   "cell_type": "code",
   "execution_count": 93,
   "metadata": {},
   "outputs": [],
   "source": []
  },
  {
   "cell_type": "code",
   "execution_count": 96,
   "metadata": {},
   "outputs": [
    {
     "ename": "TypeError",
     "evalue": "can only concatenate str (not \"int\") to str",
     "output_type": "error",
     "traceback": [
      "\u001b[1;31m---------------------------------------------------------------------------\u001b[0m",
      "\u001b[1;31mTypeError\u001b[0m                                 Traceback (most recent call last)",
      "File \u001b[1;32mc:\\Users\\andre\\OneDrive\\Escritorio\\DIP\\01_Reporte de Ejecución Presupuestal\\03_Código_Limpieza_Tablero\\TEP\\lib\\site-packages\\pandas\\core\\groupby\\groupby.py:1353\u001b[0m, in \u001b[0;36mGroupBy.apply\u001b[1;34m(self, func, *args, **kwargs)\u001b[0m\n\u001b[0;32m   1352\u001b[0m \u001b[39mtry\u001b[39;00m:\n\u001b[1;32m-> 1353\u001b[0m     result \u001b[39m=\u001b[39m \u001b[39mself\u001b[39;49m\u001b[39m.\u001b[39;49m_python_apply_general(f, \u001b[39mself\u001b[39;49m\u001b[39m.\u001b[39;49m_selected_obj)\n\u001b[0;32m   1354\u001b[0m \u001b[39mexcept\u001b[39;00m \u001b[39mTypeError\u001b[39;00m:\n\u001b[0;32m   1355\u001b[0m     \u001b[39m# gh-20949\u001b[39;00m\n\u001b[0;32m   1356\u001b[0m     \u001b[39m# try again, with .apply acting as a filtering\u001b[39;00m\n\u001b[1;32m   (...)\u001b[0m\n\u001b[0;32m   1360\u001b[0m     \u001b[39m# fails on *some* columns, e.g. a numeric operation\u001b[39;00m\n\u001b[0;32m   1361\u001b[0m     \u001b[39m# on a string grouper column\u001b[39;00m\n",
      "File \u001b[1;32mc:\\Users\\andre\\OneDrive\\Escritorio\\DIP\\01_Reporte de Ejecución Presupuestal\\03_Código_Limpieza_Tablero\\TEP\\lib\\site-packages\\pandas\\core\\groupby\\groupby.py:1402\u001b[0m, in \u001b[0;36mGroupBy._python_apply_general\u001b[1;34m(self, f, data, not_indexed_same, is_transform, is_agg)\u001b[0m\n\u001b[0;32m   1376\u001b[0m \u001b[39m\u001b[39m\u001b[39m\"\"\"\u001b[39;00m\n\u001b[0;32m   1377\u001b[0m \u001b[39mApply function f in python space\u001b[39;00m\n\u001b[0;32m   1378\u001b[0m \n\u001b[1;32m   (...)\u001b[0m\n\u001b[0;32m   1400\u001b[0m \u001b[39m    data after applying f\u001b[39;00m\n\u001b[0;32m   1401\u001b[0m \u001b[39m\"\"\"\u001b[39;00m\n\u001b[1;32m-> 1402\u001b[0m values, mutated \u001b[39m=\u001b[39m \u001b[39mself\u001b[39;49m\u001b[39m.\u001b[39;49mgrouper\u001b[39m.\u001b[39;49mapply(f, data, \u001b[39mself\u001b[39;49m\u001b[39m.\u001b[39;49maxis)\n\u001b[0;32m   1403\u001b[0m \u001b[39mif\u001b[39;00m not_indexed_same \u001b[39mis\u001b[39;00m \u001b[39mNone\u001b[39;00m:\n",
      "File \u001b[1;32mc:\\Users\\andre\\OneDrive\\Escritorio\\DIP\\01_Reporte de Ejecución Presupuestal\\03_Código_Limpieza_Tablero\\TEP\\lib\\site-packages\\pandas\\core\\groupby\\ops.py:767\u001b[0m, in \u001b[0;36mBaseGrouper.apply\u001b[1;34m(self, f, data, axis)\u001b[0m\n\u001b[0;32m    766\u001b[0m group_axes \u001b[39m=\u001b[39m group\u001b[39m.\u001b[39maxes\n\u001b[1;32m--> 767\u001b[0m res \u001b[39m=\u001b[39m f(group)\n\u001b[0;32m    768\u001b[0m \u001b[39mif\u001b[39;00m \u001b[39mnot\u001b[39;00m mutated \u001b[39mand\u001b[39;00m \u001b[39mnot\u001b[39;00m _is_indexed_like(res, group_axes, axis):\n",
      "Cell \u001b[1;32mIn[96], line 31\u001b[0m, in \u001b[0;36mmerge_cells\u001b[1;34m(group)\u001b[0m\n\u001b[0;32m     30\u001b[0m \u001b[39mdef\u001b[39;00m \u001b[39mmerge_cells\u001b[39m(group):\n\u001b[1;32m---> 31\u001b[0m     start_index \u001b[39m=\u001b[39m group\u001b[39m.\u001b[39;49mindex[\u001b[39m0\u001b[39;49m] \u001b[39m+\u001b[39;49m \u001b[39m4\u001b[39;49m\n\u001b[0;32m     32\u001b[0m     end_index \u001b[39m=\u001b[39m group\u001b[39m.\u001b[39mindex[\u001b[39m-\u001b[39m\u001b[39m1\u001b[39m] \u001b[39m+\u001b[39m \u001b[39m4\u001b[39m\n",
      "\u001b[1;31mTypeError\u001b[0m: can only concatenate str (not \"int\") to str",
      "\nDuring handling of the above exception, another exception occurred:\n",
      "\u001b[1;31mTypeError\u001b[0m                                 Traceback (most recent call last)",
      "Cell \u001b[1;32mIn[96], line 40\u001b[0m\n\u001b[0;32m     37\u001b[0m         \u001b[39mfor\u001b[39;00m cell \u001b[39min\u001b[39;00m row:\n\u001b[0;32m     38\u001b[0m             cell\u001b[39m.\u001b[39mfill \u001b[39m=\u001b[39m light_blue_fill\n\u001b[1;32m---> 40\u001b[0m result\u001b[39m.\u001b[39;49mgroupby(\u001b[39m'\u001b[39;49m\u001b[39mPROGRAMA\u001b[39;49m\u001b[39m'\u001b[39;49m)\u001b[39m.\u001b[39;49mapply(merge_cells)\n\u001b[0;32m     41\u001b[0m \u001b[39m# Guardar el archivo\u001b[39;00m\n\u001b[0;32m     42\u001b[0m writer\u001b[39m.\u001b[39mclose()\n",
      "File \u001b[1;32mc:\\Users\\andre\\OneDrive\\Escritorio\\DIP\\01_Reporte de Ejecución Presupuestal\\03_Código_Limpieza_Tablero\\TEP\\lib\\site-packages\\pandas\\core\\groupby\\groupby.py:1363\u001b[0m, in \u001b[0;36mGroupBy.apply\u001b[1;34m(self, func, *args, **kwargs)\u001b[0m\n\u001b[0;32m   1353\u001b[0m         result \u001b[39m=\u001b[39m \u001b[39mself\u001b[39m\u001b[39m.\u001b[39m_python_apply_general(f, \u001b[39mself\u001b[39m\u001b[39m.\u001b[39m_selected_obj)\n\u001b[0;32m   1354\u001b[0m     \u001b[39mexcept\u001b[39;00m \u001b[39mTypeError\u001b[39;00m:\n\u001b[0;32m   1355\u001b[0m         \u001b[39m# gh-20949\u001b[39;00m\n\u001b[0;32m   1356\u001b[0m         \u001b[39m# try again, with .apply acting as a filtering\u001b[39;00m\n\u001b[1;32m   (...)\u001b[0m\n\u001b[0;32m   1360\u001b[0m         \u001b[39m# fails on *some* columns, e.g. a numeric operation\u001b[39;00m\n\u001b[0;32m   1361\u001b[0m         \u001b[39m# on a string grouper column\u001b[39;00m\n\u001b[1;32m-> 1363\u001b[0m         \u001b[39mreturn\u001b[39;00m \u001b[39mself\u001b[39;49m\u001b[39m.\u001b[39;49m_python_apply_general(f, \u001b[39mself\u001b[39;49m\u001b[39m.\u001b[39;49m_obj_with_exclusions)\n\u001b[0;32m   1365\u001b[0m \u001b[39mreturn\u001b[39;00m result\n",
      "File \u001b[1;32mc:\\Users\\andre\\OneDrive\\Escritorio\\DIP\\01_Reporte de Ejecución Presupuestal\\03_Código_Limpieza_Tablero\\TEP\\lib\\site-packages\\pandas\\core\\groupby\\groupby.py:1402\u001b[0m, in \u001b[0;36mGroupBy._python_apply_general\u001b[1;34m(self, f, data, not_indexed_same, is_transform, is_agg)\u001b[0m\n\u001b[0;32m   1367\u001b[0m \u001b[39m@final\u001b[39m\n\u001b[0;32m   1368\u001b[0m \u001b[39mdef\u001b[39;00m \u001b[39m_python_apply_general\u001b[39m(\n\u001b[0;32m   1369\u001b[0m     \u001b[39mself\u001b[39m,\n\u001b[1;32m   (...)\u001b[0m\n\u001b[0;32m   1374\u001b[0m     is_agg: \u001b[39mbool\u001b[39m \u001b[39m=\u001b[39m \u001b[39mFalse\u001b[39;00m,\n\u001b[0;32m   1375\u001b[0m ) \u001b[39m-\u001b[39m\u001b[39m>\u001b[39m NDFrameT:\n\u001b[0;32m   1376\u001b[0m \u001b[39m    \u001b[39m\u001b[39m\"\"\"\u001b[39;00m\n\u001b[0;32m   1377\u001b[0m \u001b[39m    Apply function f in python space\u001b[39;00m\n\u001b[0;32m   1378\u001b[0m \n\u001b[1;32m   (...)\u001b[0m\n\u001b[0;32m   1400\u001b[0m \u001b[39m        data after applying f\u001b[39;00m\n\u001b[0;32m   1401\u001b[0m \u001b[39m    \"\"\"\u001b[39;00m\n\u001b[1;32m-> 1402\u001b[0m     values, mutated \u001b[39m=\u001b[39m \u001b[39mself\u001b[39;49m\u001b[39m.\u001b[39;49mgrouper\u001b[39m.\u001b[39;49mapply(f, data, \u001b[39mself\u001b[39;49m\u001b[39m.\u001b[39;49maxis)\n\u001b[0;32m   1403\u001b[0m     \u001b[39mif\u001b[39;00m not_indexed_same \u001b[39mis\u001b[39;00m \u001b[39mNone\u001b[39;00m:\n\u001b[0;32m   1404\u001b[0m         not_indexed_same \u001b[39m=\u001b[39m mutated\n",
      "File \u001b[1;32mc:\\Users\\andre\\OneDrive\\Escritorio\\DIP\\01_Reporte de Ejecución Presupuestal\\03_Código_Limpieza_Tablero\\TEP\\lib\\site-packages\\pandas\\core\\groupby\\ops.py:767\u001b[0m, in \u001b[0;36mBaseGrouper.apply\u001b[1;34m(self, f, data, axis)\u001b[0m\n\u001b[0;32m    765\u001b[0m \u001b[39m# group might be modified\u001b[39;00m\n\u001b[0;32m    766\u001b[0m group_axes \u001b[39m=\u001b[39m group\u001b[39m.\u001b[39maxes\n\u001b[1;32m--> 767\u001b[0m res \u001b[39m=\u001b[39m f(group)\n\u001b[0;32m    768\u001b[0m \u001b[39mif\u001b[39;00m \u001b[39mnot\u001b[39;00m mutated \u001b[39mand\u001b[39;00m \u001b[39mnot\u001b[39;00m _is_indexed_like(res, group_axes, axis):\n\u001b[0;32m    769\u001b[0m     mutated \u001b[39m=\u001b[39m \u001b[39mTrue\u001b[39;00m\n",
      "Cell \u001b[1;32mIn[96], line 31\u001b[0m, in \u001b[0;36mmerge_cells\u001b[1;34m(group)\u001b[0m\n\u001b[0;32m     30\u001b[0m \u001b[39mdef\u001b[39;00m \u001b[39mmerge_cells\u001b[39m(group):\n\u001b[1;32m---> 31\u001b[0m     start_index \u001b[39m=\u001b[39m group\u001b[39m.\u001b[39;49mindex[\u001b[39m0\u001b[39;49m] \u001b[39m+\u001b[39;49m \u001b[39m4\u001b[39;49m\n\u001b[0;32m     32\u001b[0m     end_index \u001b[39m=\u001b[39m group\u001b[39m.\u001b[39mindex[\u001b[39m-\u001b[39m\u001b[39m1\u001b[39m] \u001b[39m+\u001b[39m \u001b[39m4\u001b[39m\n\u001b[0;32m     33\u001b[0m     hoja2\u001b[39m.\u001b[39mmerge_cells(\u001b[39mf\u001b[39m\u001b[39m'\u001b[39m\u001b[39mA\u001b[39m\u001b[39m{\u001b[39;00mstart_index\u001b[39m}\u001b[39;00m\u001b[39m:A\u001b[39m\u001b[39m{\u001b[39;00mend_index\u001b[39m}\u001b[39;00m\u001b[39m'\u001b[39m)\n",
      "\u001b[1;31mTypeError\u001b[0m: can only concatenate str (not \"int\") to str"
     ]
    }
   ],
   "source": [
    "from openpyxl import load_workbook\n",
    "from openpyxl.styles import PatternFill, Color\n",
    "\n",
    "writer = pd.ExcelWriter('archivo.xlsx', engine='openpyxl')\n",
    "\n",
    "# Convertir el DataFrame en una hoja de Excel\n",
    "RG.to_excel(writer, sheet_name='Ejecución Pptal Agregada DIP', index=False, startrow=3)\n",
    "\n",
    "# Obtener la hoja de Excel\n",
    "workbook = writer.book\n",
    "hoja = writer.sheets['Ejecución Pptal Agregada DIP']\n",
    "\n",
    "# Agregar el formato de tabla\n",
    "#hoja.add_table(hoja.dimensions)\n",
    "\n",
    "# Agregar los valores a las celdas\n",
    "hoja['A1'] = 'Año fiscal:'\n",
    "hoja['B1'] = fecha.year\n",
    "hoja['A2'] = 'Vigencia:'\n",
    "hoja['B2'] = 'Actual'\n",
    "hoja['A3'] = 'Periodo:'\n",
    "hoja['B3'] = month_dict[fecha.month]\n",
    "\n",
    "\n",
    "result.to_excel(writer, sheet_name='Control RVAS', index=False, startrow=1)\n",
    "hoja2 = writer.sheets['Control RVAS']\n",
    "\n",
    "light_blue_fill = PatternFill(start_color='E6F3FF', end_color='E6F3FF', fill_type='solid')\n",
    "    \n",
    "for row in hoja2.iter_rows():\n",
    "    if 'Total' in str(row[0].value):\n",
    "        for cell in row:\n",
    "            cell.fill = light_blue_fill\n",
    "            \n",
    "# Guardar el archivo\n",
    "writer.close()\n"
   ]
  },
  {
   "cell_type": "code",
   "execution_count": 98,
   "metadata": {},
   "outputs": [
    {
     "data": {
      "text/plain": [
       "4"
      ]
     },
     "execution_count": 98,
     "metadata": {},
     "output_type": "execute_result"
    }
   ],
   "source": [
    "pd.to_datetime(\"2023-04-30\").month"
   ]
  },
  {
   "cell_type": "code",
   "execution_count": null,
   "metadata": {},
   "outputs": [],
   "source": []
  }
 ],
 "metadata": {
  "kernelspec": {
   "display_name": "TEP",
   "language": "python",
   "name": "python3"
  },
  "language_info": {
   "codemirror_mode": {
    "name": "ipython",
    "version": 3
   },
   "file_extension": ".py",
   "mimetype": "text/x-python",
   "name": "python",
   "nbconvert_exporter": "python",
   "pygments_lexer": "ipython3",
   "version": "3.10.6"
  },
  "orig_nbformat": 4
 },
 "nbformat": 4,
 "nbformat_minor": 2
}
